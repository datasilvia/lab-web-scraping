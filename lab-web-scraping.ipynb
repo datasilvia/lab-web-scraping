{
  "cells": [
    {
      "cell_type": "markdown",
      "id": "7e7a1ab8-2599-417d-9a65-25ef07f3a786",
      "metadata": {
        "id": "7e7a1ab8-2599-417d-9a65-25ef07f3a786"
      },
      "source": [
        "# Lab | Web Scraping"
      ]
    },
    {
      "cell_type": "markdown",
      "id": "ce8882fc-4815-4567-92fa-b4816358ba7d",
      "metadata": {
        "id": "ce8882fc-4815-4567-92fa-b4816358ba7d"
      },
      "source": [
        "Welcome to the \"Books to Scrape\" Web Scraping Adventure Lab!\n",
        "\n",
        "**Objective**\n",
        "\n",
        "In this lab, we will embark on a mission to unearth valuable insights from the data available on Books to Scrape, an online platform showcasing a wide variety of books. As data analyst, you have been tasked with scraping a specific subset of book data from Books to Scrape to assist publishing companies in understanding the landscape of highly-rated books across different genres. Your insights will help shape future book marketing strategies and publishing decisions.\n",
        "\n",
        "**Background**\n",
        "\n",
        "In a world where data has become the new currency, businesses are leveraging big data to make informed decisions that drive success and profitability. The publishing industry, much like others, utilizes data analytics to understand market trends, reader preferences, and the performance of books based on factors such as genre, author, and ratings. Books to Scrape serves as a rich source of such data, offering detailed information about a diverse range of books, making it an ideal platform for extracting insights to aid in informed decision-making within the literary world.\n",
        "\n",
        "**Task**\n",
        "\n",
        "Your task is to create a Python script using BeautifulSoup and pandas to scrape Books to Scrape book data, focusing on book ratings and genres. The script should be able to filter books with ratings above a certain threshold and in specific genres. Additionally, the script should structure the scraped data in a tabular format using pandas for further analysis.\n",
        "\n",
        "**Expected Outcome**\n",
        "\n",
        "A function named `scrape_books` that takes two parameters: `min_rating` and `max_price`. The function should scrape book data from the \"Books to Scrape\" website and return a `pandas` DataFrame with the following columns:\n",
        "\n",
        "**Expected Outcome**\n",
        "\n",
        "- A function named `scrape_books` that takes two parameters: `min_rating` and `max_price`.\n",
        "- The function should return a DataFrame with the following columns:\n",
        "  - **UPC**: The Universal Product Code (UPC) of the book.\n",
        "  - **Title**: The title of the book.\n",
        "  - **Price (£)**: The price of the book in pounds.\n",
        "  - **Rating**: The rating of the book (1-5 stars).\n",
        "  - **Genre**: The genre of the book.\n",
        "  - **Availability**: Whether the book is in stock or not.\n",
        "  - **Description**: A brief description or product description of the book (if available).\n",
        "  \n",
        "You will execute this script to scrape data for books with a minimum rating of `4.0 and above` and a maximum price of `£20`. \n",
        "\n",
        "Remember to experiment with different ratings and prices to ensure your code is versatile and can handle various searches effectively!\n",
        "\n",
        "**Resources**\n",
        "\n",
        "- [Beautiful Soup Documentation](https://www.crummy.com/software/BeautifulSoup/bs4/doc/)\n",
        "- [Pandas Documentation](https://pandas.pydata.org/pandas-docs/stable/index.html)\n",
        "- [Books to Scrape](https://books.toscrape.com/)\n"
      ]
    },
    {
      "cell_type": "markdown",
      "id": "3519921d-5890-445b-9a33-934ed8ee378c",
      "metadata": {
        "id": "3519921d-5890-445b-9a33-934ed8ee378c"
      },
      "source": [
        "**Hint**\n",
        "\n",
        "Your first mission is to familiarize yourself with the **Books to Scrape** website. Navigate to [Books to Scrape](http://books.toscrape.com/) and explore the available books to understand their layout and structure. \n",
        "\n",
        "Next, think about how you can set parameters for your data extraction:\n",
        "\n",
        "- **Minimum Rating**: Focus on books with a rating of 4.0 and above.\n",
        "- **Maximum Price**: Filter for books priced up to £20.\n",
        "\n",
        "After reviewing the site, you can construct a plan for scraping relevant data. Pay attention to the details displayed for each book, including the title, price, rating, and availability. This will help you identify the correct HTML elements to target with your scraping script.\n",
        "\n",
        "Make sure to build your scraping URL and logic based on the patterns you observe in the HTML structure of the book listings!"
      ]
    },
    {
      "cell_type": "markdown",
      "id": "25a83a0d-a742-49f6-985e-e27887cbf922",
      "metadata": {
        "id": "25a83a0d-a742-49f6-985e-e27887cbf922"
      },
      "source": [
        "\n",
        "---\n",
        "\n",
        "**Best of luck! Immerse yourself in the world of books, and may the data be with you!**"
      ]
    },
    {
      "cell_type": "markdown",
      "id": "7b75cf0d-9afa-4eec-a9e2-befeac68b2a0",
      "metadata": {
        "id": "7b75cf0d-9afa-4eec-a9e2-befeac68b2a0"
      },
      "source": [
        "**Important Note**:\n",
        "\n",
        "In the fast-changing online world, websites often update and change their structures. When you try this lab, the **Books to Scrape** website might differ from what you expect.\n",
        "\n",
        "If you encounter issues due to these changes, like new rules or obstacles preventing data extraction, don’t worry! Get creative.\n",
        "\n",
        "You can choose another website that interests you and is suitable for scraping data. Options like Wikipedia, The New York Times, or even library databases are great alternatives. The main goal remains the same: extract useful data and enhance your web scraping skills while exploring a source of information you enjoy. This is your opportunity to practice and adapt to different web environments!"
      ]
    },
    {
      "cell_type": "code",
      "execution_count": 23,
      "id": "0a15ee03",
      "metadata": {},
      "outputs": [],
      "source": [
        "## Importar Librerías\n",
        "import requests\n",
        "from bs4 import BeautifulSoup\n",
        "import pandas as pd\n",
        "import time"
      ]
    },
    {
      "cell_type": "code",
      "execution_count": 24,
      "id": "5908c0ba",
      "metadata": {},
      "outputs": [],
      "source": [
        "## Funciones Auxiliares\n",
        "def get_star_rating(star_str):\n",
        "    ratings = {'One': 1, 'Two': 2, 'Three': 3, 'Four': 4, 'Five': 5}\n",
        "    return ratings.get(star_str, 0)\n"
      ]
    },
    {
      "cell_type": "code",
      "execution_count": 25,
      "id": "cad30320",
      "metadata": {},
      "outputs": [],
      "source": [
        "\n",
        "def get_price(price_str):\n",
        "    return float(price_str.replace('Â', '').replace('£', ''))"
      ]
    },
    {
      "cell_type": "code",
      "execution_count": 26,
      "id": "18294115",
      "metadata": {},
      "outputs": [],
      "source": [
        "## Extraer Datos\n",
        "def extract_books_from_page(soup):\n",
        "    books = []\n",
        "    articles = soup.find_all('article', class_='product_pod')\n",
        "    for article in articles:\n",
        "        title = article.h3.a['title']\n",
        "        price = get_price(article.find('p', class_='price_color').text.strip())\n",
        "        rating = get_star_rating(article.find('p', class_='star-rating')['class'][1])\n",
        "        availability = article.find('p', class_='instock availability').text.strip()\n",
        "        book_url = 'http://books.toscrape.com/catalogue/' + article.h3.a['href']\n",
        "        \n",
        "        books.append({\n",
        "            \"Title\": title,\n",
        "            \"Price (£)\": price,\n",
        "            \"Rating\": rating,\n",
        "            \"Availability\": availability,\n",
        "            \"Book URL\": book_url\n",
        "        })\n",
        "    return books\n"
      ]
    },
    {
      "cell_type": "code",
      "execution_count": 27,
      "id": "598fd334",
      "metadata": {},
      "outputs": [],
      "source": [
        "\n",
        "## Extraer Información Detallada\n",
        "def extract_book_details(book_url):\n",
        "    response = requests.get(book_url)\n",
        "    book_soup = BeautifulSoup(response.content, 'html.parser')\n",
        "    \n",
        "    try:\n",
        "        genre = book_soup.find('ul', class_='breadcrumb').find_all('a')[2].text.strip()\n",
        "    except:\n",
        "        genre = \"Unknown\"\n",
        "    \n",
        "    try:\n",
        "        upc = book_soup.find('th', text='UPC').find_next_sibling('td').text.strip()\n",
        "    except:\n",
        "        upc = \"N/A\"\n",
        "    \n",
        "    description_tag = book_soup.find('meta', {'name': 'description'})\n",
        "    description = description_tag['content'].strip() if description_tag else \"No description available\"\n",
        "    \n",
        "    return genre, upc, description"
      ]
    },
    {
      "cell_type": "code",
      "execution_count": 28,
      "id": "96d05663",
      "metadata": {},
      "outputs": [],
      "source": [
        "## scrape_books\n",
        "def scrape_books(min_rating, max_price):\n",
        "    base_url = 'http://books.toscrape.com/'\n",
        "    books_data = []\n",
        "    headers = {\"User-Agent\": \"Mozilla/5.0 (Windows NT 10.0; Win64; x64) AppleWebKit/537.36 (KHTML, like Gecko) Chrome/91.0.4472.124 Safari/537.36\"}\n",
        "    \n",
        "    page_num = 1\n",
        "    max_pages = 50\n",
        "    while page_num <= max_pages:\n",
        "        try:\n",
        "            url = f'{base_url}catalogue/page-{page_num}.html'\n",
        "            response = requests.get(url, headers=headers, timeout=10)\n",
        "            if response.status_code != 200:\n",
        "                break\n",
        "            \n",
        "            soup = BeautifulSoup(response.content, 'html.parser')\n",
        "            books = extract_books_from_page(soup)\n",
        "            \n",
        "            for book in books:\n",
        "                if book['Rating'] >= min_rating and book['Price (£)'] <= max_price:\n",
        "                    genre, upc, description = extract_book_details(book['Book URL'])\n",
        "                    book.update({\"Genre\": genre, \"UPC\": upc, \"Description\": description})\n",
        "                    books_data.append(book)\n",
        "            \n",
        "            print(f\"Página {page_num} procesada correctamente.\")\n",
        "            time.sleep(2)\n",
        "        \n",
        "        except requests.exceptions.RequestException as e:\n",
        "            print(f\"⚠️ Error en la página {page_num}: {e}\")\n",
        "            break\n",
        "        \n",
        "        page_num += 1\n",
        "    \n",
        "    return pd.DataFrame(books_data)"
      ]
    },
    {
      "cell_type": "code",
      "execution_count": 29,
      "id": "6fd23608",
      "metadata": {},
      "outputs": [
        {
          "name": "stderr",
          "output_type": "stream",
          "text": [
            "/tmp/ipykernel_31932/579814295.py:12: DeprecationWarning: The 'text' argument to find()-type methods is deprecated. Use 'string' instead.\n",
            "  upc = book_soup.find('th', text='UPC').find_next_sibling('td').text.strip()\n"
          ]
        },
        {
          "name": "stdout",
          "output_type": "stream",
          "text": [
            "Página 1 procesada correctamente.\n",
            "Página 2 procesada correctamente.\n",
            "Página 3 procesada correctamente.\n",
            "Página 4 procesada correctamente.\n",
            "Página 5 procesada correctamente.\n",
            "Página 6 procesada correctamente.\n",
            "Página 7 procesada correctamente.\n",
            "Página 8 procesada correctamente.\n",
            "Página 9 procesada correctamente.\n",
            "Página 10 procesada correctamente.\n",
            "Página 11 procesada correctamente.\n",
            "Página 12 procesada correctamente.\n",
            "Página 13 procesada correctamente.\n",
            "Página 14 procesada correctamente.\n",
            "Página 15 procesada correctamente.\n",
            "Página 16 procesada correctamente.\n",
            "Página 17 procesada correctamente.\n",
            "Página 18 procesada correctamente.\n",
            "Página 19 procesada correctamente.\n",
            "Página 20 procesada correctamente.\n",
            "Página 21 procesada correctamente.\n",
            "Página 22 procesada correctamente.\n",
            "Página 23 procesada correctamente.\n",
            "Página 24 procesada correctamente.\n",
            "Página 25 procesada correctamente.\n",
            "Página 26 procesada correctamente.\n",
            "Página 27 procesada correctamente.\n",
            "Página 28 procesada correctamente.\n",
            "Página 29 procesada correctamente.\n",
            "Página 30 procesada correctamente.\n",
            "Página 31 procesada correctamente.\n",
            "Página 32 procesada correctamente.\n",
            "Página 33 procesada correctamente.\n",
            "Página 34 procesada correctamente.\n",
            "Página 35 procesada correctamente.\n",
            "Página 36 procesada correctamente.\n",
            "Página 37 procesada correctamente.\n",
            "Página 38 procesada correctamente.\n",
            "Página 39 procesada correctamente.\n",
            "Página 40 procesada correctamente.\n",
            "Página 41 procesada correctamente.\n",
            "Página 42 procesada correctamente.\n",
            "Página 43 procesada correctamente.\n",
            "Página 44 procesada correctamente.\n",
            "Página 45 procesada correctamente.\n",
            "Página 46 procesada correctamente.\n",
            "Página 47 procesada correctamente.\n",
            "Página 48 procesada correctamente.\n",
            "Página 49 procesada correctamente.\n",
            "Página 50 procesada correctamente.\n"
          ]
        },
        {
          "data": {
            "text/html": [
              "<div>\n",
              "<style scoped>\n",
              "    .dataframe tbody tr th:only-of-type {\n",
              "        vertical-align: middle;\n",
              "    }\n",
              "\n",
              "    .dataframe tbody tr th {\n",
              "        vertical-align: top;\n",
              "    }\n",
              "\n",
              "    .dataframe thead th {\n",
              "        text-align: right;\n",
              "    }\n",
              "</style>\n",
              "<table border=\"1\" class=\"dataframe\">\n",
              "  <thead>\n",
              "    <tr style=\"text-align: right;\">\n",
              "      <th></th>\n",
              "      <th>Title</th>\n",
              "      <th>Price (£)</th>\n",
              "      <th>Rating</th>\n",
              "      <th>Availability</th>\n",
              "      <th>Book URL</th>\n",
              "      <th>Genre</th>\n",
              "      <th>UPC</th>\n",
              "      <th>Description</th>\n",
              "    </tr>\n",
              "  </thead>\n",
              "  <tbody>\n",
              "    <tr>\n",
              "      <th>0</th>\n",
              "      <td>Set Me Free</td>\n",
              "      <td>17.46</td>\n",
              "      <td>5</td>\n",
              "      <td>In stock</td>\n",
              "      <td>http://books.toscrape.com/catalogue/set-me-fre...</td>\n",
              "      <td>Young Adult</td>\n",
              "      <td>ce6396b0f23f6ecc</td>\n",
              "      <td>Aaron Ledbetter’s future had been planned out ...</td>\n",
              "    </tr>\n",
              "    <tr>\n",
              "      <th>1</th>\n",
              "      <td>The Four Agreements: A Practical Guide to Pers...</td>\n",
              "      <td>17.66</td>\n",
              "      <td>5</td>\n",
              "      <td>In stock</td>\n",
              "      <td>http://books.toscrape.com/catalogue/the-four-a...</td>\n",
              "      <td>Spirituality</td>\n",
              "      <td>6258a1f6a6dcfe50</td>\n",
              "      <td>In The Four Agreements, don Miguel Ruiz reveal...</td>\n",
              "    </tr>\n",
              "    <tr>\n",
              "      <th>2</th>\n",
              "      <td>Sophie's World</td>\n",
              "      <td>15.94</td>\n",
              "      <td>5</td>\n",
              "      <td>In stock</td>\n",
              "      <td>http://books.toscrape.com/catalogue/sophies-wo...</td>\n",
              "      <td>Philosophy</td>\n",
              "      <td>6be3beb0793a53e7</td>\n",
              "      <td>A page-turning novel that is also an explorati...</td>\n",
              "    </tr>\n",
              "    <tr>\n",
              "      <th>3</th>\n",
              "      <td>Untitled Collection: Sabbath Poems 2014</td>\n",
              "      <td>14.27</td>\n",
              "      <td>4</td>\n",
              "      <td>In stock</td>\n",
              "      <td>http://books.toscrape.com/catalogue/untitled-c...</td>\n",
              "      <td>Poetry</td>\n",
              "      <td>657fe5ead67a7767</td>\n",
              "      <td>More than thirty-five years ago, when the weat...</td>\n",
              "    </tr>\n",
              "    <tr>\n",
              "      <th>4</th>\n",
              "      <td>This One Summer</td>\n",
              "      <td>19.49</td>\n",
              "      <td>4</td>\n",
              "      <td>In stock</td>\n",
              "      <td>http://books.toscrape.com/catalogue/this-one-s...</td>\n",
              "      <td>Sequential Art</td>\n",
              "      <td>51653ef291ab7ddc</td>\n",
              "      <td>Every summer, Rose goes with her mom and dad t...</td>\n",
              "    </tr>\n",
              "  </tbody>\n",
              "</table>\n",
              "</div>"
            ],
            "text/plain": [
              "                                               Title  Price (£)  Rating  \\\n",
              "0                                        Set Me Free      17.46       5   \n",
              "1  The Four Agreements: A Practical Guide to Pers...      17.66       5   \n",
              "2                                     Sophie's World      15.94       5   \n",
              "3            Untitled Collection: Sabbath Poems 2014      14.27       4   \n",
              "4                                    This One Summer      19.49       4   \n",
              "\n",
              "  Availability                                           Book URL  \\\n",
              "0     In stock  http://books.toscrape.com/catalogue/set-me-fre...   \n",
              "1     In stock  http://books.toscrape.com/catalogue/the-four-a...   \n",
              "2     In stock  http://books.toscrape.com/catalogue/sophies-wo...   \n",
              "3     In stock  http://books.toscrape.com/catalogue/untitled-c...   \n",
              "4     In stock  http://books.toscrape.com/catalogue/this-one-s...   \n",
              "\n",
              "            Genre               UPC  \\\n",
              "0     Young Adult  ce6396b0f23f6ecc   \n",
              "1    Spirituality  6258a1f6a6dcfe50   \n",
              "2      Philosophy  6be3beb0793a53e7   \n",
              "3          Poetry  657fe5ead67a7767   \n",
              "4  Sequential Art  51653ef291ab7ddc   \n",
              "\n",
              "                                         Description  \n",
              "0  Aaron Ledbetter’s future had been planned out ...  \n",
              "1  In The Four Agreements, don Miguel Ruiz reveal...  \n",
              "2  A page-turning novel that is also an explorati...  \n",
              "3  More than thirty-five years ago, when the weat...  \n",
              "4  Every summer, Rose goes with her mom and dad t...  "
            ]
          },
          "metadata": {},
          "output_type": "display_data"
        }
      ],
      "source": [
        "## Ejecutar y Mostrar Datos\n",
        "df_books = scrape_books(min_rating=4, max_price=20)\n",
        "display(df_books.head())"
      ]
    },
    {
      "cell_type": "code",
      "execution_count": 30,
      "id": "3e6b390e",
      "metadata": {},
      "outputs": [
        {
          "name": "stdout",
          "output_type": "stream",
          "text": [
            "Datos guardados en books_scraped.csv\n"
          ]
        }
      ],
      "source": [
        "## Guardar los Datos en CSV\n",
        "df_books.to_csv('books_scraped.csv', index=False)\n",
        "print(\"Datos guardados en books_scraped.csv\")\n"
      ]
    }
  ],
  "metadata": {
    "colab": {
      "provenance": []
    },
    "kernelspec": {
      "display_name": "py5",
      "language": "python",
      "name": "py5"
    },
    "language_info": {
      "codemirror_mode": {
        "name": "ipython",
        "version": 3
      },
      "file_extension": ".py",
      "mimetype": "text/x-python",
      "name": "python",
      "nbconvert_exporter": "python",
      "pygments_lexer": "ipython3",
      "version": "3.12.4"
    }
  },
  "nbformat": 4,
  "nbformat_minor": 5
}
